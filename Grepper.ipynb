{
 "cells": [
  {
   "cell_type": "code",
   "execution_count": 59,
   "id": "a4503a1f",
   "metadata": {},
   "outputs": [],
   "source": [
    "class Grepper:\n",
    "\n",
    "    def __init__(self, sourcePath:str) -> None:\n",
    "        import glob\n",
    "\n",
    "        self.filePath = sourcePath\n",
    "        self.fileList = glob.glob(str(self.filePath))\n",
    "        #print(self.fileList)\n",
    "        \n",
    "    def load(self) -> None:\n",
    "        for filename in self.fileList:\n",
    "            with open(filename) as inputStream:\n",
    "                self.db = inputStream.readlines()\n",
    "                print(self.db[0])\n",
    "                \n",
    "    def grep(self) -> None:\n",
    "        import re\n",
    "        \n",
    "        self.uids = []\n",
    "        self.cns = []\n",
    "        self.mails = []\n",
    "        \n",
    "        for entry in range(len(self.db)):\n",
    "        \n",
    "            uidRegex = '(?<=uid:)\\s[a-z.A-Z0-9]+\\s'\n",
    "            self.uids.append(re.findall(uidRegex, self.db[entry]))\n",
    "            \n",
    "            cnRegex = '(?<=cn:)(.*)(?=mail:)'\n",
    "            self.cns.append(re.findall(cnRegex, self.db[entry]))\n",
    "        \n",
    "            mailRegex = \"[a-z0-9!#$%&'*+/=?^_`{|}~-]+(?:\\.[a-z0-9!#$%&'*+/=?^_`{|}~-]+)*@(?:[a-z0-9](?:[a-z0-9-]*[a-z0-9])?\\.)+[a-z0-9](?:[a-z0-9-]*[a-z0-9])?\"\n",
    "            self.mails.append(re.findall(mailRegex, self.db[entry]))\n",
    "            \n",
    "        #print(self.uids)\n",
    "        #print(self.cns)\n",
    "        #print(self.mails)\n",
    "    \n",
    "    def to_CSV(self, destName:str, separator:str):\n",
    "        import pandas as pd\n",
    "        \n",
    "        self.UIDS = []\n",
    "        self.CNS = []\n",
    "        self.MAILS = []\n",
    "        \n",
    "        for index in range(0,len(self.db)):\n",
    "            self.UIDS.append(self.uids[index][0])\n",
    "            self.CNS.append(self.cns[index][0])\n",
    "            try:\n",
    "                self.MAILS.append(self.mails[index][0])\n",
    "            except IndexError:\n",
    "                self.MAILS.append(\"N/A\")\n",
    "        \n",
    "        data = {\"uid\":self.UIDS, \"cn\":self.CNS, \"mail\":self.MAILS}\n",
    "        database = pd.DataFrame(data)\n",
    "        database.to_csv(destName, sep=separator)"
   ]
  },
  {
   "cell_type": "code",
   "execution_count": 60,
   "id": "4babbf6d",
   "metadata": {},
   "outputs": [
    {
     "name": "stdout",
     "output_type": "stream",
     "text": [
      "type in the folder's path:prova/*\n",
      "['prova/agata']\n",
      "uid: adri123  cn: Adriana Nannini mail: nannini@fi.infn.it \n",
      "\n"
     ]
    }
   ],
   "source": [
    "source = input(\"type in the folder's path:\")\n",
    "\n",
    "prova = Grepper(str(source))\n",
    "prova.load()\n",
    "prova.grep()\n",
    "prova.to_CSV(destName=\"prova/agataclean.csv\",separator=\";\")"
   ]
  },
  {
   "cell_type": "code",
   "execution_count": null,
   "id": "6863294d",
   "metadata": {},
   "outputs": [],
   "source": []
  }
 ],
 "metadata": {
  "kernelspec": {
   "display_name": "Python 3",
   "language": "python",
   "name": "python3"
  },
  "language_info": {
   "codemirror_mode": {
    "name": "ipython",
    "version": 3
   },
   "file_extension": ".py",
   "mimetype": "text/x-python",
   "name": "python",
   "nbconvert_exporter": "python",
   "pygments_lexer": "ipython3",
   "version": "3.8.8"
  }
 },
 "nbformat": 4,
 "nbformat_minor": 5
}
